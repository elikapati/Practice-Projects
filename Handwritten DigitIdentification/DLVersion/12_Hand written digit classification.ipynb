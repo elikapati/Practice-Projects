{
 "cells": [
  {
   "cell_type": "markdown",
   "metadata": {},
   "source": [
    "# Handwritten Digit Recognition / Classification\n",
    "\n",
    "Data Source: http://yann.lecun.com/exdb/mnist/\n",
    "\n",
    "In this project, we identify handwritten digit(s) from a collection of 70000 images used for training and validation. \n",
    "- The images are monochrome graphics. \n",
    "- We initially apply a simple neural network model to baseline\n",
    "- Apply convolution, pooling and dropout to see performance improvement\n",
    "- Increase the number of layers to see if performance improves\n",
    "\n",
    "We apply\n",
    "- convolution to capture patterns\n",
    "- pooling to reduce the size of image\n",
    "- dropout to generalize model\n",
    "\n",
    "Image Augmentation:\n",
    "\n",
    "In addition to above, we can also try Image augmentation techniques to capture the structure and patterns. It is a technique applied when input data is not sufficient enough to capture patterns. Following are few techniques we apply:\n",
    "- 0) original digits before applying any augmentation:\n",
    "<img src='Data/original_digits.png' width=300/>\n",
    "\n",
    "- 1) Feature standardization: is similar to sample standardization, which standardizes across features; feature standardization standardizes values for each feature\n",
    "<img src='Data/feat_std_digits.png' width=300/>\n",
    "\n",
    "- 2) ZCA: reduces redundancy applying linear algebra; \n",
    "    - reduction in redundancy highlights the structure and features of the images; \n",
    "    - is similar to PCA (which discards irrelevant features) but unlike PCA includes all features\n",
    "<img src='Data/zca_whitened_digits.png' width=300/>\n",
    "- 3) Apply Random Rotations\n",
    "- 4) Apply Random Shifts\n",
    "- 5) Apply Random Flips"
   ]
  },
  {
   "cell_type": "code",
   "execution_count": 1,
   "metadata": {},
   "outputs": [],
   "source": [
    "from tensorflow import keras\n",
    "from tensorflow.keras.datasets import mnist\n",
    "import matplotlib.pyplot as plt"
   ]
  },
  {
   "cell_type": "markdown",
   "metadata": {},
   "source": [
    "__Load and Visualize data__"
   ]
  },
  {
   "cell_type": "code",
   "execution_count": 2,
   "metadata": {},
   "outputs": [
    {
     "data": {
      "image/png": "[encoded data removed]",
      "text/plain": [
       "<Figure size 432x288 with 4 Axes>"
      ]
     },
     "metadata": {
      "needs_background": "light"
     },
     "output_type": "display_data"
    }
   ],
   "source": [
    "(X_train, y_train), (X_valid, y_valid) = mnist.load_data()\n",
    "\n",
    "plt.subplot(221)\n",
    "plt.imshow(X_train[0], cmap=plt.get_cmap('gray'))\n",
    "plt.subplot(222)\n",
    "plt.imshow(X_train[1], cmap=plt.get_cmap('gray'))\n",
    "plt.subplot(223)\n",
    "plt.imshow(X_train[2], cmap=plt.get_cmap('gray'))\n",
    "plt.subplot(224)\n",
    "plt.imshow(X_train[3], cmap=plt.get_cmap('gray'))\n",
    "plt.show()"
   ]
  },
  {
   "cell_type": "code",
   "execution_count": 3,
   "metadata": {},
   "outputs": [
    {
     "data": {
      "text/plain": [
       "(60000, 28, 28)"
      ]
     },
     "execution_count": 3,
     "metadata": {},
     "output_type": "execute_result"
    }
   ],
   "source": [
    "X_train.shape"
   ]
  },
  {
   "cell_type": "markdown",
   "metadata": {},
   "source": [
    "So, there are __60000 images__ in training data set of size __28 x 28 x 1__ (length, width, color)."
   ]
  },
  {
   "cell_type": "code",
   "execution_count": 4,
   "metadata": {},
   "outputs": [
    {
     "data": {
      "text/plain": [
       "(10000, 28, 28)"
      ]
     },
     "execution_count": 4,
     "metadata": {},
     "output_type": "execute_result"
    }
   ],
   "source": [
    "X_valid.shape"
   ]
  },
  {
   "cell_type": "markdown",
   "metadata": {},
   "source": [
    "So, there are __10000 images__ in validate data set of size __28 x 28 x 1__ (length, width, color)."
   ]
  },
  {
   "cell_type": "markdown",
   "metadata": {},
   "source": [
    "__Baseline model__"
   ]
  },
  {
   "cell_type": "code",
   "execution_count": 5,
   "metadata": {},
   "outputs": [],
   "source": [
    "from tensorflow.keras.models import Sequential\n",
    "from tensorflow.keras.layers import Dense\n",
    "from tensorflow.keras.utils import to_categorical"
   ]
  },
  {
   "cell_type": "markdown",
   "metadata": {},
   "source": [
    "<img src='Data/Baseline_model.png' width=750/>"
   ]
  },
  {
   "cell_type": "code",
   "execution_count": 6,
   "metadata": {},
   "outputs": [
    {
     "name": "stdout",
     "output_type": "stream",
     "text": [
      "Model: \"sequential\"\n",
      "_________________________________________________________________\n",
      "Layer (type)                 Output Shape              Param #   \n",
      "=================================================================\n",
      "dense (Dense)                (None, 784)               615440    \n",
      "_________________________________________________________________\n",
      "dense_1 (Dense)              (None, 10)                7850      \n",
      "=================================================================\n",
      "Total params: 623,290\n",
      "Trainable params: 623,290\n",
      "Non-trainable params: 0\n",
      "_________________________________________________________________\n",
      "Train on 60000 samples, validate on 10000 samples\n",
      "Epoch 1/10\n",
      "60000/60000 - 4s - loss: 0.2768 - accuracy: 0.9209 - val_loss: 0.1321 - val_accuracy: 0.9621\n",
      "Epoch 2/10\n",
      "60000/60000 - 3s - loss: 0.1092 - accuracy: 0.9683 - val_loss: 0.0924 - val_accuracy: 0.9709\n",
      "Epoch 3/10\n",
      "60000/60000 - 3s - loss: 0.0703 - accuracy: 0.9796 - val_loss: 0.0740 - val_accuracy: 0.9775\n",
      "Epoch 4/10\n",
      "60000/60000 - 3s - loss: 0.0497 - accuracy: 0.9857 - val_loss: 0.0680 - val_accuracy: 0.9791\n",
      "Epoch 5/10\n",
      "60000/60000 - 3s - loss: 0.0365 - accuracy: 0.9897 - val_loss: 0.0637 - val_accuracy: 0.9798\n",
      "Epoch 6/10\n",
      "60000/60000 - 3s - loss: 0.0267 - accuracy: 0.9924 - val_loss: 0.0638 - val_accuracy: 0.9805\n",
      "Epoch 7/10\n",
      "60000/60000 - 3s - loss: 0.0201 - accuracy: 0.9947 - val_loss: 0.0601 - val_accuracy: 0.9818\n",
      "Epoch 8/10\n",
      "60000/60000 - 4s - loss: 0.0146 - accuracy: 0.9964 - val_loss: 0.0642 - val_accuracy: 0.9808\n",
      "Epoch 9/10\n",
      "60000/60000 - 4s - loss: 0.0118 - accuracy: 0.9974 - val_loss: 0.0638 - val_accuracy: 0.9817\n",
      "Epoch 10/10\n",
      "60000/60000 - 4s - loss: 0.0085 - accuracy: 0.9984 - val_loss: 0.0630 - val_accuracy: 0.9819\n",
      "Baseline Error = 1.81%\n"
     ]
    }
   ],
   "source": [
    "num_pixels = X_train.shape[1] * X_train.shape[2]\n",
    "X_train = X_train.reshape((X_train.shape[0], num_pixels)).astype('float32')\n",
    "X_valid = X_valid.reshape((X_valid.shape[0], num_pixels)).astype('float32')\n",
    "\n",
    "# Normalize intensitiy values ranging (0 - 255) to get values between (0 - 1)\n",
    "X_train = X_train / 255\n",
    "X_valid = X_valid / 255\n",
    "\n",
    "y_train = to_categorical(y_train)\n",
    "y_valid = to_categorical(y_valid)\n",
    "num_classes = y_valid.shape[1]\n",
    "\n",
    "# We flatten 28 x 28 x 1 to vector of 784 pixel input\n",
    "def baseline_model():\n",
    "    model = Sequential()\n",
    "    model.add(Dense(num_pixels, input_dim=num_pixels, activation='relu'))\n",
    "    model.add(Dense(num_classes, activation='softmax'))\n",
    "    \n",
    "    model.compile(loss='categorical_crossentropy', optimizer='adam', metrics=['accuracy'])\n",
    "    return model\n",
    "\n",
    "model = baseline_model()\n",
    "model.summary()\n",
    "\n",
    "model.fit(X_train, y_train, validation_data=(X_valid, y_valid), epochs=10, batch_size=200, verbose=2)\n",
    "\n",
    "scores = model.evaluate(X_valid, y_valid, verbose=0)\n",
    "print('Baseline Error = %.2f%%' % (100 - scores[1] * 100))"
   ]
  },
  {
   "cell_type": "markdown",
   "metadata": {},
   "source": [
    "__Apply Convolutions, Pooling and Dropout Layers__"
   ]
  },
  {
   "cell_type": "code",
   "execution_count": 7,
   "metadata": {},
   "outputs": [],
   "source": [
    "(X_train, y_train), (X_valid, y_valid) = mnist.load_data()\n",
    "\n",
    "X_train = X_train.reshape(X_train.shape[0], 28, 28, 1).astype('float32')\n",
    "X_valid = X_valid.reshape(X_valid.shape[0], 28, 28, 1).astype('float32')\n",
    "\n",
    "# Normalize inputs from 0 - 255 to 0 - 1\n",
    "X_train = X_train / 255\n",
    "X_valid = X_valid / 255\n",
    "\n",
    "# one hot encode output\n",
    "y_train = to_categorical(y_train)\n",
    "y_valid = to_categorical(y_valid)"
   ]
  },
  {
   "cell_type": "code",
   "execution_count": 8,
   "metadata": {},
   "outputs": [],
   "source": [
    "from tensorflow.keras.layers import Conv2D, MaxPooling2D, Dropout, Flatten\n",
    "\n",
    "def simpleCNN_model():\n",
    "    model = Sequential()\n",
    "    model.add(Conv2D(32, (5, 5), input_shape=(28, 28, 1), activation='relu'))\n",
    "    model.add(MaxPooling2D())\n",
    "    model.add(Dropout(0.2))\n",
    "    model.add(Flatten())\n",
    "    model.add(Dense(128, activation='relu'))\n",
    "    model.add(Dense(num_classes, activation='softmax'))\n",
    "    \n",
    "    model.compile(loss='categorical_crossentropy', optimizer='adam', metrics=['accuracy'])\n",
    "    return model"
   ]
  },
  {
   "cell_type": "code",
   "execution_count": 9,
   "metadata": {},
   "outputs": [
    {
     "name": "stdout",
     "output_type": "stream",
     "text": [
      "Model: \"sequential_1\"\n",
      "_________________________________________________________________\n",
      "Layer (type)                 Output Shape              Param #   \n",
      "=================================================================\n",
      "conv2d (Conv2D)              (None, 24, 24, 32)        832       \n",
      "_________________________________________________________________\n",
      "max_pooling2d (MaxPooling2D) (None, 12, 12, 32)        0         \n",
      "_________________________________________________________________\n",
      "dropout (Dropout)            (None, 12, 12, 32)        0         \n",
      "_________________________________________________________________\n",
      "flatten (Flatten)            (None, 4608)              0         \n",
      "_________________________________________________________________\n",
      "dense_2 (Dense)              (None, 128)               589952    \n",
      "_________________________________________________________________\n",
      "dense_3 (Dense)              (None, 10)                1290      \n",
      "=================================================================\n",
      "Total params: 592,074\n",
      "Trainable params: 592,074\n",
      "Non-trainable params: 0\n",
      "_________________________________________________________________\n",
      "Train on 60000 samples, validate on 10000 samples\n",
      "Epoch 1/10\n",
      "60000/60000 - 28s - loss: 0.2566 - accuracy: 0.9280 - val_loss: 0.0777 - val_accuracy: 0.9778\n",
      "Epoch 2/10\n",
      "60000/60000 - 27s - loss: 0.0772 - accuracy: 0.9770 - val_loss: 0.0576 - val_accuracy: 0.9828\n",
      "Epoch 3/10\n",
      "60000/60000 - 27s - loss: 0.0537 - accuracy: 0.9838 - val_loss: 0.0443 - val_accuracy: 0.9854\n",
      "Epoch 4/10\n",
      "60000/60000 - 28s - loss: 0.0413 - accuracy: 0.9877 - val_loss: 0.0359 - val_accuracy: 0.9878\n",
      "Epoch 5/10\n",
      "60000/60000 - 27s - loss: 0.0351 - accuracy: 0.9891 - val_loss: 0.0347 - val_accuracy: 0.9892\n",
      "Epoch 6/10\n",
      "60000/60000 - 28s - loss: 0.0282 - accuracy: 0.9911 - val_loss: 0.0313 - val_accuracy: 0.9902\n",
      "Epoch 7/10\n",
      "60000/60000 - 27s - loss: 0.0228 - accuracy: 0.9925 - val_loss: 0.0310 - val_accuracy: 0.9896\n",
      "Epoch 8/10\n",
      "60000/60000 - 28s - loss: 0.0197 - accuracy: 0.9937 - val_loss: 0.0299 - val_accuracy: 0.9912\n",
      "Epoch 9/10\n",
      "60000/60000 - 28s - loss: 0.0171 - accuracy: 0.9945 - val_loss: 0.0319 - val_accuracy: 0.9898\n",
      "Epoch 10/10\n",
      "60000/60000 - 29s - loss: 0.0143 - accuracy: 0.9954 - val_loss: 0.0263 - val_accuracy: 0.9920\n",
      "Simple CNN model Error = 0.80%\n"
     ]
    }
   ],
   "source": [
    "model = simpleCNN_model()\n",
    "model.summary()\n",
    "\n",
    "model.fit(X_train, y_train, validation_data=(X_valid, y_valid), epochs=10, batch_size=200, verbose=2)\n",
    "\n",
    "scores = model.evaluate(X_valid, y_valid, verbose=0)\n",
    "print('Simple CNN model Error = %.2f%%' % (100-scores[1]*100))"
   ]
  },
  {
   "cell_type": "markdown",
   "metadata": {},
   "source": [
    "__Apply larger Convolutional neural network__"
   ]
  },
  {
   "cell_type": "code",
   "execution_count": 10,
   "metadata": {},
   "outputs": [],
   "source": [
    "(X_train, y_train), (X_valid, y_valid) = mnist.load_data()\n",
    "\n",
    "X_train = X_train.reshape(X_train.shape[0], 28, 28, 1).astype('float32')\n",
    "X_valid = X_valid.reshape(X_valid.shape[0], 28, 28, 1).astype('float32')\n",
    "\n",
    "# Normalize inputs from 0 - 255 to 0 - 1\n",
    "X_train = X_train / 255\n",
    "X_valid = X_valid / 255\n",
    "\n",
    "# one hot encode output\n",
    "y_train = to_categorical(y_train)\n",
    "y_valid = to_categorical(y_valid)"
   ]
  },
  {
   "cell_type": "code",
   "execution_count": 11,
   "metadata": {},
   "outputs": [
    {
     "name": "stdout",
     "output_type": "stream",
     "text": [
      "Model: \"sequential_2\"\n",
      "_________________________________________________________________\n",
      "Layer (type)                 Output Shape              Param #   \n",
      "=================================================================\n",
      "conv2d_1 (Conv2D)            (None, 24, 24, 30)        780       \n",
      "_________________________________________________________________\n",
      "max_pooling2d_1 (MaxPooling2 (None, 12, 12, 30)        0         \n",
      "_________________________________________________________________\n",
      "dropout_1 (Dropout)          (None, 12, 12, 30)        0         \n",
      "_________________________________________________________________\n",
      "flatten_1 (Flatten)          (None, 4320)              0         \n",
      "_________________________________________________________________\n",
      "dense_4 (Dense)              (None, 128)               553088    \n",
      "_________________________________________________________________\n",
      "dense_5 (Dense)              (None, 50)                6450      \n",
      "_________________________________________________________________\n",
      "dense_6 (Dense)              (None, 10)                510       \n",
      "=================================================================\n",
      "Total params: 560,828\n",
      "Trainable params: 560,828\n",
      "Non-trainable params: 0\n",
      "_________________________________________________________________\n",
      "Train on 60000 samples, validate on 10000 samples\n",
      "Epoch 1/10\n",
      "60000/60000 [==============================] - 32s 537us/sample - loss: 0.2631 - accuracy: 0.9274 - val_loss: 0.0847 - val_accuracy: 0.9744\n",
      "Epoch 2/10\n",
      "60000/60000 [==============================] - 31s 515us/sample - loss: 0.0730 - accuracy: 0.9777 - val_loss: 0.0538 - val_accuracy: 0.9833\n",
      "Epoch 3/10\n",
      "60000/60000 [==============================] - 31s 518us/sample - loss: 0.0538 - accuracy: 0.9833 - val_loss: 0.0476 - val_accuracy: 0.9847\n",
      "Epoch 4/10\n",
      "60000/60000 [==============================] - 31s 511us/sample - loss: 0.0407 - accuracy: 0.9879 - val_loss: 0.0452 - val_accuracy: 0.9855\n",
      "Epoch 5/10\n",
      "60000/60000 [==============================] - 31s 513us/sample - loss: 0.0349 - accuracy: 0.9890 - val_loss: 0.0363 - val_accuracy: 0.9881\n",
      "Epoch 6/10\n",
      "60000/60000 [==============================] - 31s 511us/sample - loss: 0.0271 - accuracy: 0.9916 - val_loss: 0.0337 - val_accuracy: 0.9887\n",
      "Epoch 7/10\n",
      "60000/60000 [==============================] - 31s 513us/sample - loss: 0.0230 - accuracy: 0.9927 - val_loss: 0.0348 - val_accuracy: 0.9887\n",
      "Epoch 8/10\n",
      "60000/60000 [==============================] - 31s 513us/sample - loss: 0.0202 - accuracy: 0.9935 - val_loss: 0.0357 - val_accuracy: 0.9881\n",
      "Epoch 9/10\n",
      "60000/60000 [==============================] - 31s 518us/sample - loss: 0.0164 - accuracy: 0.9946 - val_loss: 0.0406 - val_accuracy: 0.9883\n",
      "Epoch 10/10\n",
      "60000/60000 [==============================] - 31s 512us/sample - loss: 0.0148 - accuracy: 0.9951 - val_loss: 0.0338 - val_accuracy: 0.9895\n",
      "Larger CNN model Error = 1.05%\n"
     ]
    }
   ],
   "source": [
    "def larger_model():\n",
    "    model = Sequential()\n",
    "    model.add(Conv2D(30, (5, 5), input_shape=(28, 28, 1), activation='relu'))\n",
    "    model.add(MaxPooling2D())\n",
    "    model.add(Dropout(0.2))\n",
    "    model.add(Flatten())\n",
    "    model.add(Dense(128, activation='relu'))\n",
    "    model.add(Dense(50, activation='relu'))\n",
    "    model.add(Dense(num_classes, activation='softmax'))\n",
    "    \n",
    "    model.compile(loss='categorical_crossentropy', optimizer='adam', metrics=['accuracy'])\n",
    "    return model\n",
    "\n",
    "model = larger_model()\n",
    "model.summary()\n",
    "\n",
    "model.fit(X_train, y_train, validation_data=(X_valid, y_valid), epochs=10, batch_size=200)\n",
    "\n",
    "scores = model.evaluate(X_valid, y_valid, verbose=0)\n",
    "print('Larger CNN model Error = %.2f%%' % (100-scores[1]*100))"
   ]
  },
  {
   "cell_type": "markdown",
   "metadata": {},
   "source": [
    "<font color=red>__Image Augmentation Techniques__</font>\n",
    "- View Images before any augmentation to have an idea which transformations can benefit\n",
    "- Apply feature transformation\n",
    "- Apply ZCA\n",
    "- Apply Random Rotations\n",
    "- Apply Random Shifts\n",
    "- Apply Random Flips\n",
    "\n",
    "By looking at the images before any of the transformations, we will have an idea which transformations can be useful to apply. After each transformation check the metrics."
   ]
  },
  {
   "cell_type": "markdown",
   "metadata": {},
   "source": [
    "__Let us view first 9 digits in their original form__:"
   ]
  },
  {
   "cell_type": "code",
   "execution_count": 2,
   "metadata": {},
   "outputs": [
    {
     "name": "stdout",
     "output_type": "stream",
     "text": [
      "Digits in original form:\n"
     ]
    },
    {
     "data": {
      "image/png": "[encoded data removed]",
      "text/plain": [
       "<Figure size 432x288 with 9 Axes>"
      ]
     },
     "metadata": {
      "needs_background": "light"
     },
     "output_type": "display_data"
    }
   ],
   "source": [
    "# load data\n",
    "(X_train, y_train), (X_valid, y_valid) = mnist.load_data()\n",
    "\n",
    "# create a grid of 3x3 images\n",
    "print('Digits in original form:')\n",
    "for i in range(0, 9):\n",
    "    plt.subplot(330 + 1 + i)\n",
    "    plt.imshow(X_train[i], cmap=plt.get_cmap('gray'))\n",
    "    # show the plot\n",
    "plt.show()"
   ]
  },
  {
   "cell_type": "markdown",
   "metadata": {},
   "source": [
    "__Images after feature transformation__:"
   ]
  },
  {
   "cell_type": "code",
   "execution_count": 11,
   "metadata": {},
   "outputs": [
    {
     "data": {
      "image/png": "[encoded data removed]",
      "text/plain": [
       "<Figure size 432x288 with 9 Axes>"
      ]
     },
     "metadata": {
      "needs_background": "light"
     },
     "output_type": "display_data"
    }
   ],
   "source": [
    "from tensorflow.keras.preprocessing.image import ImageDataGenerator\n",
    "from tensorflow.keras import backend as bknd\n",
    "\n",
    "bknd.set_image_data_format('channels_last') \n",
    "\n",
    "# load data\n",
    "(X_train, y_train), (X_valid, y_valid) = mnist.load_data()\n",
    "\n",
    "X_train = X_train.reshape((X_train.shape[0], 1, 28, 28))\n",
    "X_valid = X_valid.reshape((X_valid.shape[0], 1, 28, 28))\n",
    "\n",
    "X_train = X_train.astype('float32')\n",
    "X_valid = X_valid.astype('float32')\n",
    "\n",
    "datagen = ImageDataGenerator(featurewise_center=True, featurewise_std_normalization=True)\n",
    "datagen.fit(X_train)\n",
    "\n",
    "for X_batch, y_batch in datagen.flow(X_train, y_train, batch_size = 9):\n",
    "    for i in range(0, 9):\n",
    "        plt.subplot(330 + 1 + i)\n",
    "        plt.imshow(X_batch[i].reshape(28, 28), cmap=plt.get_cmap('gray'))\n",
    "    plt.show()\n",
    "    break"
   ]
  },
  {
   "cell_type": "markdown",
   "metadata": {},
   "source": [
    "__ZCA (Zero Component Analysis) Whitening__"
   ]
  },
  {
   "cell_type": "code",
   "execution_count": 15,
   "metadata": {},
   "outputs": [
    {
     "data": {
      "image/png": "[encoded data removed]",
      "text/plain": [
       "<Figure size 432x288 with 9 Axes>"
      ]
     },
     "metadata": {
      "needs_background": "light"
     },
     "output_type": "display_data"
    }
   ],
   "source": [
    "from tensorflow.keras.preprocessing.image import ImageDataGenerator\n",
    "\n",
    "# load data\n",
    "(X_train, y_train), (X_valid, y_valid) = mnist.load_data()\n",
    "\n",
    "X_train = X_train.reshape((X_train.shape[0], 28, 28, 1))\n",
    "X_valid = X_valid.reshape((X_valid.shape[0], 28, 28, 1))\n",
    "\n",
    "X_train = X_train.astype('float32')\n",
    "X_valid = X_valid.astype('float32')\n",
    "\n",
    "datagen = ImageDataGenerator(zca_whitening=True, \n",
    "                             featurewise_center=False, featurewise_std_normalization=False)\n",
    "datagen.fit(X_train)\n",
    "\n",
    "for X_batch, y_batch in datagen.flow(X_train, y_train, batch_size = 9):\n",
    "    for i in range(0, 9):\n",
    "        plt.subplot(330 + 1 + i)\n",
    "        plt.imshow(X_batch[i].reshape(28, 28), cmap=plt.get_cmap('gray'))\n",
    "    plt.show()\n",
    "    break"
   ]
  },
  {
   "cell_type": "markdown",
   "metadata": {},
   "source": [
    "__Apply Random Rotations__"
   ]
  },
  {
   "cell_type": "code",
   "execution_count": 16,
   "metadata": {},
   "outputs": [
    {
     "data": {
      "image/png": "[encoded data removed]",
      "text/plain": [
       "<Figure size 432x288 with 9 Axes>"
      ]
     },
     "metadata": {
      "needs_background": "light"
     },
     "output_type": "display_data"
    }
   ],
   "source": [
    "from tensorflow.keras.preprocessing.image import ImageDataGenerator\n",
    "\n",
    "# load data\n",
    "(X_train, y_train), (X_valid, y_valid) = mnist.load_data()\n",
    "\n",
    "X_train = X_train.reshape((X_train.shape[0], 28, 28, 1))\n",
    "X_valid = X_valid.reshape((X_valid.shape[0], 28, 28, 1))\n",
    "\n",
    "X_train = X_train.astype('float32')\n",
    "X_valid = X_valid.astype('float32')\n",
    "\n",
    "datagen = ImageDataGenerator(rotation_range=90, \n",
    "                             zca_whitening=False, \n",
    "                             featurewise_center=False, featurewise_std_normalization=False)\n",
    "datagen.fit(X_train)\n",
    "\n",
    "for X_batch, y_batch in datagen.flow(X_train, y_train, batch_size = 9):\n",
    "    for i in range(0, 9):\n",
    "        plt.subplot(330 + 1 + i)\n",
    "        plt.imshow(X_batch[i].reshape(28, 28), cmap=plt.get_cmap('gray'))\n",
    "    plt.show()\n",
    "    break"
   ]
  },
  {
   "cell_type": "markdown",
   "metadata": {},
   "source": [
    "__Apply Random Shifts__"
   ]
  },
  {
   "cell_type": "code",
   "execution_count": 20,
   "metadata": {},
   "outputs": [
    {
     "data": {
      "image/png": "[encoded data removed]",
      "text/plain": [
       "<Figure size 432x288 with 9 Axes>"
      ]
     },
     "metadata": {
      "needs_background": "light"
     },
     "output_type": "display_data"
    }
   ],
   "source": [
    "from tensorflow.keras.preprocessing.image import ImageDataGenerator\n",
    "\n",
    "# load data\n",
    "(X_train, y_train), (X_valid, y_valid) = mnist.load_data()\n",
    "\n",
    "X_train = X_train.reshape((X_train.shape[0], 28, 28, 1))\n",
    "X_valid = X_valid.reshape((X_valid.shape[0], 28, 28, 1))\n",
    "\n",
    "X_train = X_train.astype('float32')\n",
    "X_valid = X_valid.astype('float32')\n",
    "\n",
    "shift = 0.25\n",
    "datagen = ImageDataGenerator(width_shift_range=shift, height_shift_range=shift, \n",
    "                             rotation_range=0, zca_whitening=False, \n",
    "                             featurewise_center=False, featurewise_std_normalization=False)\n",
    "datagen.fit(X_train)\n",
    "\n",
    "for X_batch, y_batch in datagen.flow(X_train, y_train, batch_size = 9):\n",
    "    for i in range(0, 9):\n",
    "        plt.subplot(330 + 1 + i)\n",
    "        plt.imshow(X_batch[i].reshape(28, 28), cmap=plt.get_cmap('gray'))\n",
    "    plt.show()\n",
    "    break"
   ]
  },
  {
   "cell_type": "markdown",
   "metadata": {},
   "source": [
    "__Apply Random Flips__"
   ]
  },
  {
   "cell_type": "code",
   "execution_count": 21,
   "metadata": {},
   "outputs": [
    {
     "data": {
      "image/png": "[encoded data removed]",
      "text/plain": [
       "<Figure size 432x288 with 9 Axes>"
      ]
     },
     "metadata": {
      "needs_background": "light"
     },
     "output_type": "display_data"
    }
   ],
   "source": [
    "from tensorflow.keras.preprocessing.image import ImageDataGenerator\n",
    "\n",
    "# load data\n",
    "(X_train, y_train), (X_valid, y_valid) = mnist.load_data()\n",
    "\n",
    "X_train = X_train.reshape((X_train.shape[0], 28, 28, 1))\n",
    "X_valid = X_valid.reshape((X_valid.shape[0], 28, 28, 1))\n",
    "\n",
    "X_train = X_train.astype('float32')\n",
    "X_valid = X_valid.astype('float32')\n",
    "\n",
    "datagen = ImageDataGenerator(horizontal_flip=True, vertical_flip=True,\n",
    "                             width_shift_range=0, height_shift_range=0, \n",
    "                             rotation_range=0, zca_whitening=False, \n",
    "                             featurewise_center=False, featurewise_std_normalization=False)\n",
    "datagen.fit(X_train)\n",
    "\n",
    "for X_batch, y_batch in datagen.flow(X_train, y_train, batch_size = 9):\n",
    "    for i in range(0, 9):\n",
    "        plt.subplot(330 + 1 + i)\n",
    "        plt.imshow(X_batch[i].reshape(28, 28), cmap=plt.get_cmap('gray'))\n",
    "    plt.show()\n",
    "    break"
   ]
  },
  {
   "cell_type": "markdown",
   "metadata": {},
   "source": [
    "__Saving Augmented images to File__"
   ]
  },
  {
   "cell_type": "code",
   "execution_count": 47,
   "metadata": {},
   "outputs": [
    {
     "data": {
      "image/png": "[encoded data removed]",
      "text/plain": [
       "<Figure size 432x288 with 9 Axes>"
      ]
     },
     "metadata": {
      "needs_background": "light"
     },
     "output_type": "display_data"
    }
   ],
   "source": [
    "from tensorflow.keras.preprocessing.image import ImageDataGenerator\n",
    "import os\n",
    "\n",
    "# load data\n",
    "(X_train, y_train), (X_valid, y_valid) = mnist.load_data()\n",
    "\n",
    "X_train = X_train.reshape((X_train.shape[0], 28, 28, 1))\n",
    "X_valid = X_valid.reshape((X_valid.shape[0], 28, 28, 1))\n",
    "\n",
    "X_train = X_train.astype('float32')\n",
    "X_valid = X_valid.astype('float32')\n",
    "\n",
    "if not os.path.exists('Data/images'):\n",
    "    os.makedirs('Data/images')\n",
    "\n",
    "for X_batch, y_batch in datagen.flow(X_train, y_train, batch_size = 9, \n",
    "                                     save_to_dir='Data/images', save_prefix='aug', save_format='png'):\n",
    "    for i in range(0, 9):\n",
    "        plt.subplot(330 + 1 + i)\n",
    "        plt.imshow(X_batch[i].reshape(28, 28), cmap=plt.get_cmap('gray'))\n",
    "    plt.show()\n",
    "    break"
   ]
  }
 ],
 "metadata": {
  "kernelspec": {
   "display_name": "Python 3.7 (tensorflow)",
   "language": "python",
   "name": "tensorflow"
  },
  "language_info": {
   "codemirror_mode": {
    "name": "ipython",
    "version": 3
   },
   "file_extension": ".py",
   "mimetype": "text/x-python",
   "name": "python",
   "nbconvert_exporter": "python",
   "pygments_lexer": "ipython3",
   "version": "3.7.7"
  }
 },
 "nbformat": 4,
 "nbformat_minor": 4
}
