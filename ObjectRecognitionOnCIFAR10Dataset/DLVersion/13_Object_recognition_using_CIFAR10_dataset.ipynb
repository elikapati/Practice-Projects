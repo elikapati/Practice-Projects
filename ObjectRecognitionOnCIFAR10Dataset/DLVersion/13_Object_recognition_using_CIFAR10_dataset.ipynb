{
 "cells": [
  {
   "cell_type": "markdown",
   "metadata": {
    "id": "uscLxPIktj_z"
   },
   "source": [
    "# Object recognition using CIFAR10 dataset\n",
    "\n",
    "In this project, we identify objects from collection of 60,000 color images of 10 object classes.\n",
    "- Data source: http://www.cs.toronto.edu/~kriz/cifar.html\n",
    "- The images are color graphics\n",
    "- Each image is of 32 x 32 pixel size\n",
    "- Data is about 163MB\n",
    "- We initially apply a simple neural network model to baseline\n",
    "- Apply convolution, pooling and dropout to see performance improvement\n",
    "- Increase the number of layers to see if performance improves\n",
    "\n",
    "We apply\n",
    "\n",
    "- convolution to capture patterns\n",
    "- pooling to reduce the size of image\n",
    "- dropout to generalize model"
   ]
  },
  {
   "cell_type": "code",
   "execution_count": 1,
   "metadata": {
    "id": "5pRiZJe_tkAL"
   },
   "outputs": [],
   "source": [
    "from tensorflow import keras\n",
    "from tensorflow.keras.models import Sequential\n",
    "from tensorflow.keras.layers import Dense\n",
    "from tensorflow.keras.layers import Dropout\n",
    "from tensorflow.keras.layers import Flatten\n",
    "from tensorflow.keras.layers import Conv2D\n",
    "from tensorflow.keras.layers import MaxPooling2D\n",
    "from tensorflow.keras.constraints import max_norm\n",
    "from tensorflow.keras.optimizers import SGD\n",
    "from tensorflow.keras.utils import to_categorical\n",
    "from tensorflow.keras.datasets import cifar10\n",
    "import matplotlib.pyplot as plt"
   ]
  },
  {
   "cell_type": "code",
   "execution_count": 2,
   "metadata": {
    "colab": {
     "base_uri": "https://localhost:8080/"
    },
    "id": "EUQBvjoctkAN",
    "outputId": "bce8a2df-f686-4ffa-fd94-ed3966ba03b8"
   },
   "outputs": [
    {
     "name": "stdout",
     "output_type": "stream",
     "text": [
      "Downloading data from https://www.cs.toronto.edu/~kriz/cifar-10-python.tar.gz\n",
      "170500096/170498071 [==============================] - 4s 0us/step\n"
     ]
    }
   ],
   "source": [
    "(X_train, y_train), (X_valid, y_valid) = cifar10.load_data()\n",
    "\n",
    "X_train = X_train.astype('float32')\n",
    "X_valid = X_valid.astype('float32')\n",
    "\n",
    "# normalize inputs ranging between (0 - 255) to between (0 - 1)\n",
    "X_train = X_train / 255.0\n",
    "X_valid = X_valid / 255.0\n",
    "\n",
    "# one hot encode outputs\n",
    "y_train = to_categorical(y_train)\n",
    "y_valid = to_categorical(y_valid)\n",
    "\n",
    "num_classes = y_valid.shape[1]"
   ]
  },
  {
   "cell_type": "markdown",
   "metadata": {
    "id": "MZNDK_WMtkAP"
   },
   "source": [
    "__Simple CNN__"
   ]
  },
  {
   "cell_type": "code",
   "execution_count": 7,
   "metadata": {
    "colab": {
     "base_uri": "https://localhost:8080/"
    },
    "id": "5FyiXsKptkAP",
    "outputId": "162759e2-e4d1-4ed7-c391-c3ebe14869a7"
   },
   "outputs": [
    {
     "name": "stdout",
     "output_type": "stream",
     "text": [
      "Model: \"sequential_3\"\n",
      "_________________________________________________________________\n",
      "Layer (type)                 Output Shape              Param #   \n",
      "=================================================================\n",
      "conv2d_6 (Conv2D)            (None, 32, 32, 32)        896       \n",
      "_________________________________________________________________\n",
      "dropout_6 (Dropout)          (None, 32, 32, 32)        0         \n",
      "_________________________________________________________________\n",
      "conv2d_7 (Conv2D)            (None, 32, 32, 32)        9248      \n",
      "_________________________________________________________________\n",
      "max_pooling2d_3 (MaxPooling2 (None, 16, 16, 32)        0         \n",
      "_________________________________________________________________\n",
      "flatten_3 (Flatten)          (None, 8192)              0         \n",
      "_________________________________________________________________\n",
      "dense_6 (Dense)              (None, 512)               4194816   \n",
      "_________________________________________________________________\n",
      "dropout_7 (Dropout)          (None, 512)               0         \n",
      "_________________________________________________________________\n",
      "dense_7 (Dense)              (None, 10)                5130      \n",
      "=================================================================\n",
      "Total params: 4,210,090\n",
      "Trainable params: 4,210,090\n",
      "Non-trainable params: 0\n",
      "_________________________________________________________________\n"
     ]
    }
   ],
   "source": [
    "model = Sequential()\n",
    "model.add(Conv2D(32, (3, 3), input_shape=(32, 32, 3), padding='same', activation='relu', kernel_constraint=max_norm(3)))\n",
    "model.add(Dropout(0.2))\n",
    "model.add(Conv2D(32, (3, 3), padding='same', activation='relu', kernel_constraint=max_norm(3)))\n",
    "model.add(MaxPooling2D())\n",
    "model.add(Flatten())\n",
    "model.add(Dense(512, activation='relu', kernel_constraint=max_norm(3)))\n",
    "model.add(Dropout(0.5))\n",
    "model.add(Dense(num_classes, activation='softmax'))\n",
    "\n",
    "epochs = 25\n",
    "lrate = 0.01\n",
    "decay = lrate / epochs\n",
    "sgd = SGD(lr=lrate, momentum=0.9, decay=decay, nesterov=False)\n",
    "model.compile(loss='categorical_crossentropy', optimizer=sgd, metrics=['accuracy'])\n",
    "model.summary()"
   ]
  },
  {
   "cell_type": "code",
   "execution_count": 8,
   "metadata": {
    "colab": {
     "base_uri": "https://localhost:8080/"
    },
    "id": "UPJwSSvUtkAT",
    "outputId": "a6e7351d-441c-4e0d-cbbc-d2131202ba92"
   },
   "outputs": [
    {
     "name": "stdout",
     "output_type": "stream",
     "text": [
      "Epoch 1/25\n",
      "1563/1563 [==============================] - 15s 5ms/step - loss: 1.9146 - accuracy: 0.3023 - val_loss: 1.4192 - val_accuracy: 0.4876\n",
      "Epoch 2/25\n",
      "1563/1563 [==============================] - 8s 5ms/step - loss: 1.3952 - accuracy: 0.4982 - val_loss: 1.2700 - val_accuracy: 0.5422\n",
      "Epoch 3/25\n",
      "1563/1563 [==============================] - 8s 5ms/step - loss: 1.2119 - accuracy: 0.5702 - val_loss: 1.1255 - val_accuracy: 0.6047\n",
      "Epoch 4/25\n",
      "1563/1563 [==============================] - 8s 5ms/step - loss: 1.0787 - accuracy: 0.6165 - val_loss: 1.0463 - val_accuracy: 0.6260\n",
      "Epoch 5/25\n",
      "1563/1563 [==============================] - 8s 5ms/step - loss: 0.9825 - accuracy: 0.6482 - val_loss: 1.0013 - val_accuracy: 0.6421\n",
      "Epoch 6/25\n",
      "1563/1563 [==============================] - 8s 5ms/step - loss: 0.8985 - accuracy: 0.6831 - val_loss: 0.9578 - val_accuracy: 0.6633\n",
      "Epoch 7/25\n",
      "1563/1563 [==============================] - 8s 5ms/step - loss: 0.8126 - accuracy: 0.7123 - val_loss: 0.9374 - val_accuracy: 0.6759\n",
      "Epoch 8/25\n",
      "1563/1563 [==============================] - 8s 5ms/step - loss: 0.7481 - accuracy: 0.7356 - val_loss: 0.9326 - val_accuracy: 0.6803\n",
      "Epoch 9/25\n",
      "1563/1563 [==============================] - 8s 5ms/step - loss: 0.6956 - accuracy: 0.7543 - val_loss: 0.9429 - val_accuracy: 0.6773\n",
      "Epoch 10/25\n",
      "1563/1563 [==============================] - 8s 5ms/step - loss: 0.6366 - accuracy: 0.7752 - val_loss: 0.9198 - val_accuracy: 0.6875\n",
      "Epoch 11/25\n",
      "1563/1563 [==============================] - 8s 5ms/step - loss: 0.5988 - accuracy: 0.7875 - val_loss: 0.9256 - val_accuracy: 0.6869\n",
      "Epoch 12/25\n",
      "1563/1563 [==============================] - 8s 5ms/step - loss: 0.5452 - accuracy: 0.8058 - val_loss: 0.9327 - val_accuracy: 0.6937\n",
      "Epoch 13/25\n",
      "1563/1563 [==============================] - 8s 5ms/step - loss: 0.5169 - accuracy: 0.8178 - val_loss: 0.9227 - val_accuracy: 0.6949\n",
      "Epoch 14/25\n",
      "1563/1563 [==============================] - 8s 5ms/step - loss: 0.4803 - accuracy: 0.8271 - val_loss: 0.9514 - val_accuracy: 0.6957\n",
      "Epoch 15/25\n",
      "1563/1563 [==============================] - 8s 5ms/step - loss: 0.4496 - accuracy: 0.8400 - val_loss: 0.9597 - val_accuracy: 0.6952\n",
      "Epoch 16/25\n",
      "1563/1563 [==============================] - 8s 5ms/step - loss: 0.4160 - accuracy: 0.8532 - val_loss: 0.9589 - val_accuracy: 0.7017\n",
      "Epoch 17/25\n",
      "1563/1563 [==============================] - 8s 5ms/step - loss: 0.3919 - accuracy: 0.8623 - val_loss: 0.9829 - val_accuracy: 0.6974\n",
      "Epoch 18/25\n",
      "1563/1563 [==============================] - 8s 5ms/step - loss: 0.3617 - accuracy: 0.8732 - val_loss: 0.9758 - val_accuracy: 0.7028\n",
      "Epoch 19/25\n",
      "1563/1563 [==============================] - 8s 5ms/step - loss: 0.3461 - accuracy: 0.8804 - val_loss: 1.0059 - val_accuracy: 0.7004\n",
      "Epoch 20/25\n",
      "1563/1563 [==============================] - 8s 5ms/step - loss: 0.3321 - accuracy: 0.8830 - val_loss: 1.0158 - val_accuracy: 0.7024\n",
      "Epoch 21/25\n",
      "1563/1563 [==============================] - 8s 5ms/step - loss: 0.3117 - accuracy: 0.8925 - val_loss: 1.0201 - val_accuracy: 0.7043\n",
      "Epoch 22/25\n",
      "1563/1563 [==============================] - 8s 5ms/step - loss: 0.3000 - accuracy: 0.8953 - val_loss: 1.0432 - val_accuracy: 0.7032\n",
      "Epoch 23/25\n",
      "1563/1563 [==============================] - 8s 5ms/step - loss: 0.2767 - accuracy: 0.9046 - val_loss: 1.0484 - val_accuracy: 0.7038\n",
      "Epoch 24/25\n",
      "1563/1563 [==============================] - 8s 5ms/step - loss: 0.2667 - accuracy: 0.9063 - val_loss: 1.0502 - val_accuracy: 0.7042\n",
      "Epoch 25/25\n",
      "1563/1563 [==============================] - 8s 5ms/step - loss: 0.2556 - accuracy: 0.9113 - val_loss: 1.0701 - val_accuracy: 0.7054\n",
      "Accuracy = 70.54%\n"
     ]
    }
   ],
   "source": [
    "model.fit(X_train, y_train, validation_data=(X_valid, y_valid), epochs=epochs, batch_size=32)\n",
    "scores = model.evaluate(X_valid, y_valid, verbose=0)\n",
    "\n",
    "print('Accuracy = %.2f%%' % (scores[1] * 100))"
   ]
  },
  {
   "cell_type": "markdown",
   "metadata": {},
   "source": [
    "__Larger CNN__"
   ]
  },
  {
   "cell_type": "code",
   "execution_count": 11,
   "metadata": {
    "colab": {
     "base_uri": "https://localhost:8080/"
    },
    "id": "Z-LR3kUttkAb",
    "outputId": "439ed755-7216-4bc8-a7cf-169c65b6fc23"
   },
   "outputs": [
    {
     "name": "stdout",
     "output_type": "stream",
     "text": [
      "Model: \"sequential_4\"\n",
      "_________________________________________________________________\n",
      "Layer (type)                 Output Shape              Param #   \n",
      "=================================================================\n",
      "conv2d_8 (Conv2D)            (None, 32, 32, 32)        896       \n",
      "_________________________________________________________________\n",
      "dropout_8 (Dropout)          (None, 32, 32, 32)        0         \n",
      "_________________________________________________________________\n",
      "conv2d_9 (Conv2D)            (None, 32, 32, 32)        9248      \n",
      "_________________________________________________________________\n",
      "max_pooling2d_4 (MaxPooling2 (None, 16, 16, 32)        0         \n",
      "_________________________________________________________________\n",
      "conv2d_10 (Conv2D)           (None, 16, 16, 64)        18496     \n",
      "_________________________________________________________________\n",
      "dropout_9 (Dropout)          (None, 16, 16, 64)        0         \n",
      "_________________________________________________________________\n",
      "conv2d_11 (Conv2D)           (None, 16, 16, 64)        36928     \n",
      "_________________________________________________________________\n",
      "max_pooling2d_5 (MaxPooling2 (None, 8, 8, 64)          0         \n",
      "_________________________________________________________________\n",
      "conv2d_12 (Conv2D)           (None, 8, 8, 128)         73856     \n",
      "_________________________________________________________________\n",
      "dropout_10 (Dropout)         (None, 8, 8, 128)         0         \n",
      "_________________________________________________________________\n",
      "conv2d_13 (Conv2D)           (None, 8, 8, 128)         147584    \n",
      "_________________________________________________________________\n",
      "max_pooling2d_6 (MaxPooling2 (None, 4, 4, 128)         0         \n",
      "_________________________________________________________________\n",
      "flatten_4 (Flatten)          (None, 2048)              0         \n",
      "_________________________________________________________________\n",
      "dropout_11 (Dropout)         (None, 2048)              0         \n",
      "_________________________________________________________________\n",
      "dense_8 (Dense)              (None, 1024)              2098176   \n",
      "_________________________________________________________________\n",
      "dropout_12 (Dropout)         (None, 1024)              0         \n",
      "_________________________________________________________________\n",
      "dense_9 (Dense)              (None, 512)               524800    \n",
      "_________________________________________________________________\n",
      "dropout_13 (Dropout)         (None, 512)               0         \n",
      "_________________________________________________________________\n",
      "dense_10 (Dense)             (None, 10)                5130      \n",
      "=================================================================\n",
      "Total params: 2,915,114\n",
      "Trainable params: 2,915,114\n",
      "Non-trainable params: 0\n",
      "_________________________________________________________________\n"
     ]
    }
   ],
   "source": [
    "model = Sequential()\n",
    "model.add(Conv2D(32, (3, 3), input_shape=(32, 32, 3), activation='relu', padding='same'))\n",
    "model.add(Dropout(0.2))\n",
    "model.add(Conv2D(32, (3, 3), activation='relu', padding='same'))\n",
    "model.add(MaxPooling2D())\n",
    "model.add(Conv2D(64, (3, 3), activation='relu', padding='same'))\n",
    "model.add(Dropout(0.2))\n",
    "model.add(Conv2D(64, (3, 3), activation='relu', padding='same'))\n",
    "model.add(MaxPooling2D())\n",
    "model.add(Conv2D(128, (3, 3), activation='relu', padding='same'))\n",
    "model.add(Dropout(0.2))\n",
    "model.add(Conv2D(128, (3, 3), activation='relu', padding='same'))\n",
    "model.add(MaxPooling2D())\n",
    "model.add(Flatten())\n",
    "model.add(Dropout(0.2))\n",
    "model.add(Dense(1024, activation='relu', kernel_constraint=max_norm(3)))\n",
    "model.add(Dropout(0.2))\n",
    "model.add(Dense(512, activation='relu', kernel_constraint=max_norm(3)))\n",
    "model.add(Dropout(0.2))\n",
    "model.add(Dense(num_classes, activation='softmax'))\n",
    "\n",
    "epochs = 25\n",
    "lrate = 0.01\n",
    "decay = lrate / epochs\n",
    "sgd = SGD(lr=lrate, momentum=0.9, decay=decay, nesterov=False)\n",
    "model.compile(loss='categorical_crossentropy', optimizer=sgd, metrics=['accuracy'])\n",
    "model.summary()"
   ]
  },
  {
   "cell_type": "code",
   "execution_count": 12,
   "metadata": {
    "colab": {
     "base_uri": "https://localhost:8080/"
    },
    "id": "ts3JIutatkAd",
    "outputId": "8e98cf0d-7de2-4af5-c709-f98232707c19"
   },
   "outputs": [
    {
     "name": "stdout",
     "output_type": "stream",
     "text": [
      "Epoch 1/25\n",
      "782/782 [==============================] - 8s 10ms/step - loss: 2.1145 - accuracy: 0.2062 - val_loss: 1.5944 - val_accuracy: 0.4190\n",
      "Epoch 2/25\n",
      "782/782 [==============================] - 7s 9ms/step - loss: 1.5693 - accuracy: 0.4278 - val_loss: 1.3697 - val_accuracy: 0.5086\n",
      "Epoch 3/25\n",
      "782/782 [==============================] - 7s 9ms/step - loss: 1.3665 - accuracy: 0.5035 - val_loss: 1.2297 - val_accuracy: 0.5610\n",
      "Epoch 4/25\n",
      "782/782 [==============================] - 7s 9ms/step - loss: 1.2308 - accuracy: 0.5567 - val_loss: 1.1679 - val_accuracy: 0.5801\n",
      "Epoch 5/25\n",
      "782/782 [==============================] - 7s 9ms/step - loss: 1.1174 - accuracy: 0.5969 - val_loss: 1.0297 - val_accuracy: 0.6336\n",
      "Epoch 6/25\n",
      "782/782 [==============================] - 7s 9ms/step - loss: 1.0160 - accuracy: 0.6371 - val_loss: 0.9627 - val_accuracy: 0.6583\n",
      "Epoch 7/25\n",
      "782/782 [==============================] - 7s 9ms/step - loss: 0.9372 - accuracy: 0.6652 - val_loss: 0.8968 - val_accuracy: 0.6867\n",
      "Epoch 8/25\n",
      "782/782 [==============================] - 7s 9ms/step - loss: 0.8733 - accuracy: 0.6915 - val_loss: 0.8665 - val_accuracy: 0.6954\n",
      "Epoch 9/25\n",
      "782/782 [==============================] - 7s 9ms/step - loss: 0.8125 - accuracy: 0.7167 - val_loss: 0.8203 - val_accuracy: 0.7161\n",
      "Epoch 10/25\n",
      "782/782 [==============================] - 7s 9ms/step - loss: 0.7668 - accuracy: 0.7292 - val_loss: 0.7894 - val_accuracy: 0.7228\n",
      "Epoch 11/25\n",
      "782/782 [==============================] - 7s 9ms/step - loss: 0.7325 - accuracy: 0.7412 - val_loss: 0.7523 - val_accuracy: 0.7356\n",
      "Epoch 12/25\n",
      "782/782 [==============================] - 7s 10ms/step - loss: 0.6898 - accuracy: 0.7562 - val_loss: 0.7381 - val_accuracy: 0.7403\n",
      "Epoch 13/25\n",
      "782/782 [==============================] - 7s 9ms/step - loss: 0.6607 - accuracy: 0.7656 - val_loss: 0.7093 - val_accuracy: 0.7513\n",
      "Epoch 14/25\n",
      "782/782 [==============================] - 7s 9ms/step - loss: 0.6383 - accuracy: 0.7742 - val_loss: 0.7042 - val_accuracy: 0.7525\n",
      "Epoch 15/25\n",
      "782/782 [==============================] - 7s 9ms/step - loss: 0.6015 - accuracy: 0.7858 - val_loss: 0.6862 - val_accuracy: 0.7655\n",
      "Epoch 16/25\n",
      "782/782 [==============================] - 7s 9ms/step - loss: 0.5745 - accuracy: 0.7943 - val_loss: 0.6759 - val_accuracy: 0.7644\n",
      "Epoch 17/25\n",
      "782/782 [==============================] - 7s 9ms/step - loss: 0.5537 - accuracy: 0.8043 - val_loss: 0.6681 - val_accuracy: 0.7683\n",
      "Epoch 18/25\n",
      "782/782 [==============================] - 7s 9ms/step - loss: 0.5425 - accuracy: 0.8064 - val_loss: 0.6570 - val_accuracy: 0.7742\n",
      "Epoch 19/25\n",
      "782/782 [==============================] - 7s 9ms/step - loss: 0.5177 - accuracy: 0.8172 - val_loss: 0.6595 - val_accuracy: 0.7714\n",
      "Epoch 20/25\n",
      "782/782 [==============================] - 7s 9ms/step - loss: 0.4954 - accuracy: 0.8232 - val_loss: 0.6578 - val_accuracy: 0.7752\n",
      "Epoch 21/25\n",
      "782/782 [==============================] - 7s 9ms/step - loss: 0.4913 - accuracy: 0.8264 - val_loss: 0.6341 - val_accuracy: 0.7829\n",
      "Epoch 22/25\n",
      "782/782 [==============================] - 7s 9ms/step - loss: 0.4686 - accuracy: 0.8296 - val_loss: 0.6319 - val_accuracy: 0.7809\n",
      "Epoch 23/25\n",
      "782/782 [==============================] - 7s 9ms/step - loss: 0.4573 - accuracy: 0.8375 - val_loss: 0.6325 - val_accuracy: 0.7818\n",
      "Epoch 24/25\n",
      "782/782 [==============================] - 7s 9ms/step - loss: 0.4392 - accuracy: 0.8424 - val_loss: 0.6313 - val_accuracy: 0.7852\n",
      "Epoch 25/25\n",
      "782/782 [==============================] - 7s 9ms/step - loss: 0.4275 - accuracy: 0.8498 - val_loss: 0.6267 - val_accuracy: 0.7875\n",
      "Accuracy = 78.75%\n"
     ]
    }
   ],
   "source": [
    "model.fit(X_train, y_train, validation_data=(X_valid, y_valid), epochs=epochs, batch_size=64)\n",
    "scores = model.evaluate(X_valid, y_valid, verbose=0)\n",
    "\n",
    "print('Accuracy = %.2f%%' % (scores[1] * 100))"
   ]
  }
 ],
 "metadata": {
  "accelerator": "GPU",
  "colab": {
   "name": "13_Object recognition using CIFAR10 dataset.ipynb",
   "provenance": []
  },
  "kernelspec": {
   "display_name": "Python 3.7 (tensorflow)",
   "language": "python",
   "name": "tensorflow"
  },
  "language_info": {
   "codemirror_mode": {
    "name": "ipython",
    "version": 3
   },
   "file_extension": ".py",
   "mimetype": "text/x-python",
   "name": "python",
   "nbconvert_exporter": "python",
   "pygments_lexer": "ipython3",
   "version": "3.7.7"
  }
 },
 "nbformat": 4,
 "nbformat_minor": 1
}
